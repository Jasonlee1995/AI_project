{
 "cells": [
  {
   "cell_type": "code",
   "execution_count": 1,
   "metadata": {},
   "outputs": [],
   "source": [
    "import numpy as np\n",
    "import pandas as pd\n",
    "import matplotlib.pyplot as plt"
   ]
  },
  {
   "cell_type": "code",
   "execution_count": 2,
   "metadata": {},
   "outputs": [],
   "source": [
    "%load_ext autoreload\n",
    "%autoreload 2"
   ]
  },
  {
   "cell_type": "code",
   "execution_count": null,
   "metadata": {},
   "outputs": [],
   "source": []
  },
  {
   "cell_type": "code",
   "execution_count": 3,
   "metadata": {},
   "outputs": [],
   "source": [
    "def load_data(df):\n",
    "    \n",
    "    N = df.shape[0]\n",
    "    D = df.shape[1]-1\n",
    "    \n",
    "    bias = np.array([[1.]]*N)\n",
    "    X = np.concatenate((bias, df.iloc[:, 1:]), axis=1)\n",
    "    y = df.iloc[:, 0]\n",
    "    \n",
    "    df = df.drop(df.columns[0], axis=1)\n",
    "    features = np.array(df.columns)\n",
    "    \n",
    "    return (X, y, features)"
   ]
  },
  {
   "cell_type": "code",
   "execution_count": 4,
   "metadata": {},
   "outputs": [],
   "source": [
    "train_csv_path = 'logistic_regression_training_data.csv'\n",
    "test_csv_path = 'logistic_regression_testing_data.csv'\n",
    "df_train = pd.read_csv(train_csv_path)\n",
    "df_test = pd.read_csv(test_csv_path)"
   ]
  },
  {
   "cell_type": "code",
   "execution_count": 5,
   "metadata": {},
   "outputs": [
    {
     "data": {
      "text/html": [
       "<div>\n",
       "<style scoped>\n",
       "    .dataframe tbody tr th:only-of-type {\n",
       "        vertical-align: middle;\n",
       "    }\n",
       "\n",
       "    .dataframe tbody tr th {\n",
       "        vertical-align: top;\n",
       "    }\n",
       "\n",
       "    .dataframe thead th {\n",
       "        text-align: right;\n",
       "    }\n",
       "</style>\n",
       "<table border=\"1\" class=\"dataframe\">\n",
       "  <thead>\n",
       "    <tr style=\"text-align: right;\">\n",
       "      <th></th>\n",
       "      <th>label</th>\n",
       "      <th>num_preg</th>\n",
       "      <th>PGC</th>\n",
       "      <th>DBP</th>\n",
       "      <th>tricept</th>\n",
       "      <th>insulin</th>\n",
       "      <th>BMI</th>\n",
       "      <th>ped_func</th>\n",
       "      <th>age</th>\n",
       "    </tr>\n",
       "  </thead>\n",
       "  <tbody>\n",
       "    <tr>\n",
       "      <th>0</th>\n",
       "      <td>1</td>\n",
       "      <td>0.470588</td>\n",
       "      <td>0.758794</td>\n",
       "      <td>0.639344</td>\n",
       "      <td>0.507937</td>\n",
       "      <td>0.35</td>\n",
       "      <td>0.639344</td>\n",
       "      <td>0.187020</td>\n",
       "      <td>0.250000</td>\n",
       "    </tr>\n",
       "    <tr>\n",
       "      <th>1</th>\n",
       "      <td>1</td>\n",
       "      <td>0.235294</td>\n",
       "      <td>0.663317</td>\n",
       "      <td>0.000000</td>\n",
       "      <td>0.000000</td>\n",
       "      <td>0.00</td>\n",
       "      <td>0.490313</td>\n",
       "      <td>0.095645</td>\n",
       "      <td>0.033333</td>\n",
       "    </tr>\n",
       "    <tr>\n",
       "      <th>2</th>\n",
       "      <td>0</td>\n",
       "      <td>0.058824</td>\n",
       "      <td>0.467337</td>\n",
       "      <td>0.459016</td>\n",
       "      <td>0.174603</td>\n",
       "      <td>0.00</td>\n",
       "      <td>0.335320</td>\n",
       "      <td>0.144748</td>\n",
       "      <td>0.016667</td>\n",
       "    </tr>\n",
       "    <tr>\n",
       "      <th>3</th>\n",
       "      <td>0</td>\n",
       "      <td>0.058824</td>\n",
       "      <td>0.547739</td>\n",
       "      <td>0.311475</td>\n",
       "      <td>0.285714</td>\n",
       "      <td>0.20</td>\n",
       "      <td>0.344262</td>\n",
       "      <td>0.140478</td>\n",
       "      <td>0.083333</td>\n",
       "    </tr>\n",
       "    <tr>\n",
       "      <th>4</th>\n",
       "      <td>1</td>\n",
       "      <td>0.176471</td>\n",
       "      <td>0.869347</td>\n",
       "      <td>0.688525</td>\n",
       "      <td>0.523810</td>\n",
       "      <td>0.79</td>\n",
       "      <td>0.532042</td>\n",
       "      <td>0.076857</td>\n",
       "      <td>0.016667</td>\n",
       "    </tr>\n",
       "  </tbody>\n",
       "</table>\n",
       "</div>"
      ],
      "text/plain": [
       "   label  num_preg       PGC       DBP   tricept  insulin       BMI  ped_func  \\\n",
       "0      1  0.470588  0.758794  0.639344  0.507937     0.35  0.639344  0.187020   \n",
       "1      1  0.235294  0.663317  0.000000  0.000000     0.00  0.490313  0.095645   \n",
       "2      0  0.058824  0.467337  0.459016  0.174603     0.00  0.335320  0.144748   \n",
       "3      0  0.058824  0.547739  0.311475  0.285714     0.20  0.344262  0.140478   \n",
       "4      1  0.176471  0.869347  0.688525  0.523810     0.79  0.532042  0.076857   \n",
       "\n",
       "        age  \n",
       "0  0.250000  \n",
       "1  0.033333  \n",
       "2  0.016667  \n",
       "3  0.083333  \n",
       "4  0.016667  "
      ]
     },
     "execution_count": 5,
     "metadata": {},
     "output_type": "execute_result"
    }
   ],
   "source": [
    "df_train.head()"
   ]
  },
  {
   "cell_type": "code",
   "execution_count": 6,
   "metadata": {},
   "outputs": [],
   "source": [
    "X_train, y_train, features = load_data(df_train)\n",
    "X_test, y_test, _ = load_data(df_test)\n",
    "\n",
    "X = {'train': X_train, 'test': X_test}\n",
    "y = {'train': y_train, 'test': y_test}"
   ]
  },
  {
   "cell_type": "code",
   "execution_count": 7,
   "metadata": {},
   "outputs": [
    {
     "data": {
      "text/plain": [
       "array(['num_preg', 'PGC', 'DBP', 'tricept', 'insulin', 'BMI', 'ped_func',\n",
       "       'age'], dtype=object)"
      ]
     },
     "execution_count": 7,
     "metadata": {},
     "output_type": "execute_result"
    }
   ],
   "source": [
    "features"
   ]
  },
  {
   "cell_type": "markdown",
   "metadata": {},
   "source": [
    "## I. Logistic regression using SGD\n",
    "### Logistic regression using Stochastic Gradient Descent (SGD) with below conditions\n",
    "\n",
    "> a. Output class variable '$\\texttt{label}$' : 0 - normal, 1 - diabetes  \n",
    "> b. Assume that the data is randomly ordered   \n",
    "> c. Learning rate = 0.8   \n",
    "> d. Number of iterations = 100,000   \n",
    "> e. Number of ensemble = 1000\n",
    "> f. Loss function = average RSS (i.e., (1/N)*RSS where N is a total number of samples)   \n",
    "> g. Initialize all weight values to 0  \n",
    "\n",
    "- Plot average loss for every 100 iterations on train set (use loss function)\n",
    "- Plot test error on test set (use loss function)"
   ]
  },
  {
   "cell_type": "code",
   "execution_count": 8,
   "metadata": {},
   "outputs": [],
   "source": [
    "def sigmoid(x):\n",
    "    \n",
    "    ret = 1/(1+np.exp(-x))\n",
    "    return ret\n",
    "\n",
    "\n",
    "class LogisticRegressionSGD():\n",
    "    \n",
    "    def __init__(self, lr=0.8, iterations=100000, number_of_ensemble=1000):\n",
    "        self.lr = lr\n",
    "        self.iterations = iterations\n",
    "        self.number_of_ensemble = number_of_ensemble\n",
    "    \n",
    "    \n",
    "    def initialize_w(self, D):\n",
    "        \n",
    "        w = np.zeros(D)\n",
    "        return w\n",
    "        \n",
    "        \n",
    "    def predict(self, X, w):\n",
    "        \n",
    "        pred = (sigmoid(np.dot(X, w))>0.5).astype(int)\n",
    "        return pred\n",
    "    \n",
    "    \n",
    "    def get_train_sample(self, X, y, i):\n",
    "        \n",
    "        N = X.shape[0]\n",
    "        D = X.shape[1]\n",
    "        \n",
    "        i = i%N\n",
    "        X_ = X[i, :].reshape(1, -1)\n",
    "        y_ = np.array([y[i]])\n",
    "        \n",
    "        return X_, y_\n",
    "        \n",
    "    \n",
    "    def get_loss(self, X, y, w):\n",
    "        \n",
    "        error = np.sum(np.power(self.predict(X, w)-y, 2))/y.size\n",
    "        return error\n",
    "    \n",
    "    \n",
    "    def fit(self, X, y):\n",
    "\n",
    "        D = X['train'].shape[1]\n",
    "        \n",
    "        self.avg_loss_over_itr = []\n",
    "        self.test_error_over_itr = []\n",
    "        self.w_ensemble = self.initialize_w(D)\n",
    "        \n",
    "        w = self.initialize_w(D)\n",
    "        tot_loss = 0\n",
    "        \n",
    "        for i in range(self.iterations):\n",
    "            \n",
    "            X_, y_ = self.get_train_sample(X['train'], y['train'], i)\n",
    "            tot_loss +=  self.get_loss(X_, y_, w)\n",
    "\n",
    "            partial = X_*(sigmoid(np.dot(X_, w))-y_)\n",
    "            w -= self.lr*partial.reshape(-1,)\n",
    "            \n",
    "            if (i + 1) % 100 == 0:\n",
    "                avg_loss = tot_loss / (i + 1)\n",
    "                test_error = self.get_loss(X['test'], y['test'], w)\n",
    "                self.avg_loss_over_itr.append(avg_loss)\n",
    "                self.test_error_over_itr.append(test_error)\n",
    "\n",
    "            if self.iterations - (i+1) < self.number_of_ensemble:\n",
    "                self.w_ensemble += w / self.number_of_ensemble\n",
    "\n",
    "        return w\n",
    "    \n",
    "    \n",
    "    def get_accuracy(self, X, y, w):\n",
    "        \n",
    "        accuracy = 100*np.sum((np.dot(X, w)>0.5).astype(int)==y)/y.size\n",
    "        return accuracy"
   ]
  },
  {
   "cell_type": "code",
   "execution_count": 9,
   "metadata": {},
   "outputs": [],
   "source": [
    "iterations = 100000\n",
    "lr = 0.8\n",
    "number_of_ensemble = 1000"
   ]
  },
  {
   "cell_type": "code",
   "execution_count": 10,
   "metadata": {},
   "outputs": [],
   "source": [
    "logistic_regression = LogisticRegressionSGD(lr, iterations, number_of_ensemble)\n",
    "w = logistic_regression.fit(X, y)"
   ]
  },
  {
   "cell_type": "code",
   "execution_count": 11,
   "metadata": {},
   "outputs": [
    {
     "data": {
      "text/plain": [
       "Text(0, 0.5, 'Average loss')"
      ]
     },
     "execution_count": 11,
     "metadata": {},
     "output_type": "execute_result"
    },
    {
     "data": {
      "image/png": "[encoded data removed]",
      "text/plain": [
       "<Figure size 720x432 with 1 Axes>"
      ]
     },
     "metadata": {
      "needs_background": "light"
     },
     "output_type": "display_data"
    }
   ],
   "source": [
    "fig = plt.figure(figsize=(10,6))\n",
    "plt.plot(np.arange(len(logistic_regression.avg_loss_over_itr)) * 100, logistic_regression.avg_loss_over_itr)\n",
    "plt.title('Average loss over iterations on train set', fontsize=20)\n",
    "plt.xlabel('Time step', fontsize=20)\n",
    "plt.ylabel('Average loss', fontsize=20)"
   ]
  },
  {
   "cell_type": "code",
   "execution_count": 12,
   "metadata": {},
   "outputs": [
    {
     "data": {
      "text/plain": [
       "Text(0, 0.5, 'Squared error')"
      ]
     },
     "execution_count": 12,
     "metadata": {},
     "output_type": "execute_result"
    },
    {
     "data": {
      "image/png": "[encoded data removed]",
      "text/plain": [
       "<Figure size 720x432 with 1 Axes>"
      ]
     },
     "metadata": {
      "needs_background": "light"
     },
     "output_type": "display_data"
    }
   ],
   "source": [
    "plt.figure(figsize=(10,6))\n",
    "plt.plot(np.arange(len(logistic_regression.test_error_over_itr)) * 100, logistic_regression.test_error_over_itr)\n",
    "plt.title('Test error over iterations on test set', fontsize=20)\n",
    "plt.xlabel('Time step', fontsize=20)\n",
    "plt.ylabel('Squared error', fontsize=20)"
   ]
  },
  {
   "cell_type": "markdown",
   "metadata": {},
   "source": [
    "## II. Model evaluation and feature interpretations \n",
    "- Measure test accuracy using model after 100,000 iterations (accuracy = number of correct predictions / total number of predictions)\n",
    "- Measure test accuracy using average model over the weights for the last 1000 iterations\n",
    "- Estimate weights of following features, $\\texttt{BMI}$, $\\texttt{insulin}$, and $\\texttt{PGC}$"
   ]
  },
  {
   "cell_type": "code",
   "execution_count": 13,
   "metadata": {},
   "outputs": [],
   "source": [
    "def get_indices_of_fields(fields, features):\n",
    "    \n",
    "    sorter = np.argsort(features)\n",
    "    indices = sorter[np.searchsorted(features, fields, sorter=sorter)]\n",
    "    \n",
    "    return indices"
   ]
  },
  {
   "cell_type": "code",
   "execution_count": 14,
   "metadata": {},
   "outputs": [
    {
     "name": "stdout",
     "output_type": "stream",
     "text": [
      "69.77611940298507\n"
     ]
    }
   ],
   "source": [
    "accuracy = logistic_regression.get_accuracy(X['test'], y['test'], w)\n",
    "print(accuracy)"
   ]
  },
  {
   "cell_type": "code",
   "execution_count": 15,
   "metadata": {},
   "outputs": [
    {
     "name": "stdout",
     "output_type": "stream",
     "text": [
      "73.50746268656717\n"
     ]
    }
   ],
   "source": [
    "accuracy_ensemble = logistic_regression.get_accuracy(X['test'], y['test'], logistic_regression.w_ensemble)\n",
    "print(accuracy_ensemble)"
   ]
  },
  {
   "cell_type": "code",
   "execution_count": 16,
   "metadata": {},
   "outputs": [],
   "source": [
    "fields = np.array(['BMI', 'insulin', 'PGC'])\n",
    "indices = get_indices_of_fields(fields, features)"
   ]
  },
  {
   "cell_type": "code",
   "execution_count": 17,
   "metadata": {},
   "outputs": [
    {
     "data": {
      "text/plain": [
       "array([-0.92481426, -0.03423808,  3.98788775])"
      ]
     },
     "execution_count": 17,
     "metadata": {},
     "output_type": "execute_result"
    }
   ],
   "source": [
    "logistic_regression.w_ensemble[indices]"
   ]
  }
 ],
 "metadata": {
  "kernelspec": {
   "display_name": "py_36",
   "language": "python",
   "name": "py_36"
  },
  "language_info": {
   "codemirror_mode": {
    "name": "ipython",
    "version": 3
   },
   "file_extension": ".py",
   "mimetype": "text/x-python",
   "name": "python",
   "nbconvert_exporter": "python",
   "pygments_lexer": "ipython3",
   "version": "3.6.9"
  }
 },
 "nbformat": 4,
 "nbformat_minor": 4
}
