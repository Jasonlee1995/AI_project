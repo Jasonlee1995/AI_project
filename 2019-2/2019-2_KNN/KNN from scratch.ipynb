{
 "cells": [
  {
   "cell_type": "code",
   "execution_count": 1,
   "metadata": {},
   "outputs": [],
   "source": [
    "import numpy as np\n",
    "import matplotlib.pyplot as plt\n",
    "from sklearn import datasets\n",
    "from sklearn.model_selection import train_test_split"
   ]
  },
  {
   "cell_type": "code",
   "execution_count": 2,
   "metadata": {},
   "outputs": [],
   "source": [
    "%load_ext autoreload\n",
    "%autoreload 2"
   ]
  },
  {
   "cell_type": "code",
   "execution_count": null,
   "metadata": {},
   "outputs": [],
   "source": []
  },
  {
   "cell_type": "code",
   "execution_count": 3,
   "metadata": {},
   "outputs": [],
   "source": [
    "mnist = datasets.load_digits()"
   ]
  },
  {
   "cell_type": "code",
   "execution_count": 4,
   "metadata": {},
   "outputs": [],
   "source": [
    "(X_train, X_test, y_train, y_test) = train_test_split(np.array(mnist.data), mnist.target, test_size=0.33, random_state=42)\n",
    "(X_train, X_val, y_train, y_val) = train_test_split(X_train, y_train, test_size=0.33, random_state=42)"
   ]
  },
  {
   "cell_type": "code",
   "execution_count": 5,
   "metadata": {
    "scrolled": true
   },
   "outputs": [
    {
     "name": "stdout",
     "output_type": "stream",
     "text": [
      "X_train.shape:  (806, 64)\n",
      "X_train[0].shape:  (64,)\n",
      "y_train.shape:  (806,)\n"
     ]
    }
   ],
   "source": [
    "print(\"X_train.shape: \", X_train.shape)\n",
    "print(\"X_train[0].shape: \",X_train[0].shape)\n",
    "print(\"y_train.shape: \", y_train.shape)"
   ]
  },
  {
   "cell_type": "code",
   "execution_count": 6,
   "metadata": {},
   "outputs": [
    {
     "name": "stdout",
     "output_type": "stream",
     "text": [
      "A label for 8th sample in the training set is 5\n"
     ]
    },
    {
     "data": {
      "image/png": "[encoded data removed]",
      "text/plain": [
       "<Figure size 432x288 with 1 Axes>"
      ]
     },
     "metadata": {
      "needs_background": "light"
     },
     "output_type": "display_data"
    }
   ],
   "source": [
    "sample_number = 8\n",
    "n_col = 8\n",
    "n_row = 8\n",
    "im=plt.imshow(X_train[sample_number].reshape(n_col,n_col))\n",
    "print('A label for %dth sample in the training set is %d' % (sample_number, y_train[sample_number]))"
   ]
  },
  {
   "cell_type": "markdown",
   "metadata": {},
   "source": [
    "## I. K-Nearest Neighbor (KNN)\n",
    "### K-Nearest Neighbor Algorithm with below conditions\n",
    "\n",
    "> a. Predict label of first test sample  \n",
    "> b. Assume that the data is randomly ordered   \n",
    "> c. Learning rate = 0.8   \n",
    "> d. Number of iterations = 100,000   \n",
    "> e. Number of ensemble = 1000\n",
    "> f. Loss function = average RSS (i.e., (1/N)*RSS where N is a total number of samples)   \n",
    "> g. Initialize all weight values to 0\n",
    "\n",
    "- Predict label of first test sample when k=20\n",
    "- Get accuracy on test data when k=10 \n",
    "- Plot accuracy on the validation set according to the value of $k$, where $k = 1,2,...,20$\n",
    "- Choose the optimal $k$ value from the plot\n",
    "- Compute accuracy on the test set"
   ]
  },
  {
   "cell_type": "code",
   "execution_count": 7,
   "metadata": {},
   "outputs": [],
   "source": [
    "def predict(X_train, y_train, one_sample, k):  \n",
    "    \n",
    "    candidate = y_train[np.sqrt(np.sum(np.power(X_train-one_sample, 2), axis=1)).argsort()[:k]]\n",
    "    dic = {}\n",
    "    for label in candidate:\n",
    "        if label not in dic: dic[label] = 1\n",
    "        else: dic[label] += 1\n",
    "    dic = list(dic.items())\n",
    "    prediction = dic[0]\n",
    "    for i in range(1, len(dic)):\n",
    "        if dic[i][1] > prediction[1]:\n",
    "            prediction = dic[i]\n",
    "    prediction = prediction[0]\n",
    "        \n",
    "    return prediction\n",
    "\n",
    "\n",
    "def accuracy(X_train, y_train, X_test, y_test, k):\n",
    "    \n",
    "    acc = 0\n",
    "    for i in range(X_test.shape[0]):\n",
    "        y_hat = predict(X_train, y_train, X_test[i], k)\n",
    "        if y_hat == y_test[i]: acc += 1\n",
    "    \n",
    "    acc = 100 * acc/X_test.shape[0]\n",
    "             \n",
    "    return acc\n",
    "\n",
    "\n",
    "def stack_accuracy_over_k(X_train, y_train, X_val, y_val):\n",
    "    \n",
    "    accuracies = []    \n",
    "    for k in range(1, 21):\n",
    "        accuracies.append(accuracy(X_train, y_train, X_val, y_val, k))\n",
    "\n",
    "    return accuracies"
   ]
  },
  {
   "cell_type": "code",
   "execution_count": 8,
   "metadata": {},
   "outputs": [],
   "source": [
    "k = 20\n",
    "prediction_of_first_sample = predict(X_train, y_train, X_test[0], k)"
   ]
  },
  {
   "cell_type": "code",
   "execution_count": 9,
   "metadata": {},
   "outputs": [
    {
     "name": "stdout",
     "output_type": "stream",
     "text": [
      "6\n"
     ]
    }
   ],
   "source": [
    "print(prediction_of_first_sample)"
   ]
  },
  {
   "cell_type": "code",
   "execution_count": 10,
   "metadata": {
    "scrolled": true
   },
   "outputs": [
    {
     "name": "stdout",
     "output_type": "stream",
     "text": [
      "6\n"
     ]
    }
   ],
   "source": [
    "label_of_first_sample = y_test[0]\n",
    "print(label_of_first_sample)"
   ]
  },
  {
   "cell_type": "code",
   "execution_count": 11,
   "metadata": {},
   "outputs": [
    {
     "name": "stdout",
     "output_type": "stream",
     "text": [
      "A label of first sample in the test set is 6\n"
     ]
    },
    {
     "data": {
      "image/png": "[encoded data removed]",
      "text/plain": [
       "<Figure size 432x288 with 1 Axes>"
      ]
     },
     "metadata": {
      "needs_background": "light"
     },
     "output_type": "display_data"
    }
   ],
   "source": [
    "n_col = 8\n",
    "n_row = 8\n",
    "im=plt.imshow(X_test[0].reshape(n_col,n_col))\n",
    "print('A label of first sample in the test set is %d' % (y_test[0]))"
   ]
  },
  {
   "cell_type": "code",
   "execution_count": 12,
   "metadata": {
    "scrolled": true
   },
   "outputs": [
    {
     "name": "stdout",
     "output_type": "stream",
     "text": [
      "Prediction and label are same : True\n"
     ]
    }
   ],
   "source": [
    "print(\"Prediction and label are same :\", (prediction_of_first_sample==label_of_first_sample))"
   ]
  },
  {
   "cell_type": "code",
   "execution_count": 13,
   "metadata": {},
   "outputs": [],
   "source": [
    "k =10 \n",
    "accuracy_when_k_equals_10 = accuracy(X_train, y_train, X_test, y_test, k)"
   ]
  },
  {
   "cell_type": "code",
   "execution_count": 14,
   "metadata": {},
   "outputs": [
    {
     "name": "stdout",
     "output_type": "stream",
     "text": [
      "98.14814814814815\n"
     ]
    }
   ],
   "source": [
    "print(accuracy_when_k_equals_10)"
   ]
  },
  {
   "cell_type": "code",
   "execution_count": 15,
   "metadata": {},
   "outputs": [],
   "source": [
    "accuracies = stack_accuracy_over_k(X_train, y_train, X_val, y_val)"
   ]
  },
  {
   "cell_type": "code",
   "execution_count": 16,
   "metadata": {
    "scrolled": true
   },
   "outputs": [
    {
     "data": {
      "text/plain": [
       "Text(0, 0.5, 'Validation accuracy')"
      ]
     },
     "execution_count": 16,
     "metadata": {},
     "output_type": "execute_result"
    },
    {
     "data": {
      "image/png": "[encoded data removed]",
      "text/plain": [
       "<Figure size 648x288 with 1 Axes>"
      ]
     },
     "metadata": {
      "needs_background": "light"
     },
     "output_type": "display_data"
    }
   ],
   "source": [
    "plt.figure(figsize=(9,4))\n",
    "plt.plot(np.arange(20)+1, accuracies, marker= '*')\n",
    "plt.xticks(np.arange(1, 21, step=1))\n",
    "plt.title('Validation accuracy over k', fontsize=20)\n",
    "plt.xlabel('k', fontsize=15)\n",
    "plt.ylabel('Validation accuracy', fontsize=15)"
   ]
  },
  {
   "cell_type": "code",
   "execution_count": 17,
   "metadata": {},
   "outputs": [],
   "source": [
    "optimal_k = np.argmax(np.asarray(accuracies))+1"
   ]
  },
  {
   "cell_type": "code",
   "execution_count": 18,
   "metadata": {},
   "outputs": [
    {
     "data": {
      "text/plain": [
       "3"
      ]
     },
     "execution_count": 18,
     "metadata": {},
     "output_type": "execute_result"
    }
   ],
   "source": [
    "optimal_k"
   ]
  },
  {
   "cell_type": "code",
   "execution_count": 19,
   "metadata": {},
   "outputs": [
    {
     "name": "stdout",
     "output_type": "stream",
     "text": [
      "98.65319865319866\n"
     ]
    }
   ],
   "source": [
    "acc = accuracy(X_train, y_train, X_test, y_test, optimal_k)\n",
    "print(acc)"
   ]
  }
 ],
 "metadata": {
  "kernelspec": {
   "display_name": "py_36",
   "language": "python",
   "name": "py_36"
  },
  "language_info": {
   "codemirror_mode": {
    "name": "ipython",
    "version": 3
   },
   "file_extension": ".py",
   "mimetype": "text/x-python",
   "name": "python",
   "nbconvert_exporter": "python",
   "pygments_lexer": "ipython3",
   "version": "3.6.9"
  }
 },
 "nbformat": 4,
 "nbformat_minor": 4
}
